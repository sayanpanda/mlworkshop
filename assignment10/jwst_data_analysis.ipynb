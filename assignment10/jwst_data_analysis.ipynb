{
 "cells": [
  {
   "cell_type": "code",
   "execution_count": null,
   "id": "cbdca374",
   "metadata": {},
   "outputs": [],
   "source": [
    "# Standard imports\n",
    "import numpy as np\n",
    "import matplotlib.pyplot as plt\n",
    "from astropy.io import fits\n",
    "from astropy.wcs import WCS\n",
    "from astropy.visualization import (MinMaxInterval, LogStretch,\n",
    "                                 ImageNormalize, simple_norm)\n",
    "from astropy.visualization.wcsaxes import WCSAxes, add_scalebar\n",
    "from astropy.stats import SigmaClip\n",
    "from photutils.background import Background2D, MedianBackground\n",
    "from photutils.detection import detect_sources, deblend_sources\n",
    "from photutils.segmentation import SourceCatalog\n",
    "from photutils.aperture import CircularAperture\n",
    "from astroquery.mast import Observations"
   ]
  },
  {
   "cell_type": "markdown",
   "id": "1cbd0572",
   "metadata": {},
   "source": [
    "# JWST Data Analysis: SMACS 0723\n",
    "\n",
    "This notebook demonstrates how to:\n",
    "1. Query JWST NIRCam imaging data using astroquery\n",
    "2. Download and display calibrated images\n",
    "3. Apply contrast stretching\n",
    "4. Overlay celestial coordinates and scale bar\n",
    "5. Extract source positions\n",
    "\n",
    "We'll be following PEP-8 guidelines and using Python 3.12 for this analysis."
   ]
  },
  {
   "cell_type": "markdown",
   "id": "6265166d",
   "metadata": {},
   "source": [
    "# Import Required Libraries\n",
    "\n",
    "We'll import all the necessary libraries for our analysis:"
   ]
  },
  {
   "cell_type": "code",
   "execution_count": 4,
   "id": "fdf72f4b",
   "metadata": {},
   "outputs": [],
   "source": [
    "# Standard imports\n",
    "import os\n",
    "import numpy as np\n",
    "from matplotlib import pyplot as plt\n",
    "\n",
    "# Astropy imports\n",
    "from astropy.io import fits\n",
    "from astropy.visualization import (LogStretch, MinMaxInterval,\n",
    "                                ImageNormalize, simple_norm)\n",
    "from astropy.wcs import WCS\n",
    "import astropy.units as u\n",
    "\n",
    "# Astroquery imports\n",
    "from astroquery.mast import Observations\n",
    "\n",
    "# Photutils imports\n",
    "from photutils.detection import DAOStarFinder\n",
    "from photutils.background import Background2D, MedianBackground\n",
    "\n",
    "# Set up matplotlib for notebook display\n",
    "%matplotlib inline\n",
    "#plt.style.use('seaborn-darkgrid')"
   ]
  },
  {
   "cell_type": "markdown",
   "id": "d2f0994f",
   "metadata": {},
   "source": [
    "# Search for JWST NIRCam Imaging Data\n",
    "\n",
    "We'll search for public JWST NIRCam imaging data for SMACS 0723 using the MAST archive:"
   ]
  },
  {
   "cell_type": "code",
   "execution_count": 5,
   "id": "beb75e41",
   "metadata": {},
   "outputs": [
    {
     "name": "stdout",
     "output_type": "stream",
     "text": [
      "Found 0 observations matching our criteria.\n"
     ]
    },
    {
     "name": "stderr",
     "output_type": "stream",
     "text": [
      "WARNING: NoResultsWarning: Query returned no results. [astroquery.mast.discovery_portal]\n"
     ]
    }
   ],
   "source": [
    "# Define search parameters\n",
    "target = \"SMACS-0723\"\n",
    "instrument = \"NIRCAM\"\n",
    "filt = \"F200W\"\n",
    "\n",
    "# Search for observations\n",
    "obs = Observations.query_criteria(\n",
    "    target_name=target,\n",
    "    instrument_name=instrument,\n",
    "    filters=filt,\n",
    "    obs_collection=\"JWST\"\n",
    ")\n",
    "\n",
    "print(f\"Found {len(obs)} observations matching our criteria.\")\n",
    "if len(obs) > 0:\n",
    "    print(\"\\nFirst observation details:\")\n",
    "    print(obs[0])"
   ]
  },
  {
   "cell_type": "markdown",
   "id": "669adf7b",
   "metadata": {},
   "source": [
    "# Download and Display Calibrated Image\n",
    "\n",
    "Now we'll download a calibrated image from the F200W filter and display it:"
   ]
  },
  {
   "cell_type": "code",
   "execution_count": 6,
   "id": "8271e02d",
   "metadata": {},
   "outputs": [
    {
     "ename": "InvalidQueryError",
     "evalue": "Observation list is empty, no associated products.",
     "output_type": "error",
     "traceback": [
      "\u001b[31m---------------------------------------------------------------------------\u001b[39m",
      "\u001b[31mInvalidQueryError\u001b[39m                         Traceback (most recent call last)",
      "\u001b[36mCell\u001b[39m\u001b[36m \u001b[39m\u001b[32mIn[6]\u001b[39m\u001b[32m, line 2\u001b[39m\n\u001b[32m      1\u001b[39m \u001b[38;5;66;03m# Get the data products\u001b[39;00m\n\u001b[32m----> \u001b[39m\u001b[32m2\u001b[39m products = \u001b[43mObservations\u001b[49m\u001b[43m.\u001b[49m\u001b[43mget_product_list\u001b[49m\u001b[43m(\u001b[49m\u001b[43mobs\u001b[49m\u001b[43m)\u001b[49m\n\u001b[32m      3\u001b[39m calibrated = products[products[\u001b[33m'\u001b[39m\u001b[33mproductSubGroupDescription\u001b[39m\u001b[33m'\u001b[39m] == \u001b[33m'\u001b[39m\u001b[33mCAL\u001b[39m\u001b[33m'\u001b[39m]\n\u001b[32m      4\u001b[39m f200w = calibrated[calibrated[\u001b[33m'\u001b[39m\u001b[33mfilters\u001b[39m\u001b[33m'\u001b[39m] == \u001b[33m'\u001b[39m\u001b[33mF200W\u001b[39m\u001b[33m'\u001b[39m]\n",
      "\u001b[36mFile \u001b[39m\u001b[32m~/miniconda3/envs/astro/lib/python3.13/site-packages/astroquery/utils/class_or_instance.py:25\u001b[39m, in \u001b[36mclass_or_instance.__get__.<locals>.f\u001b[39m\u001b[34m(*args, **kwds)\u001b[39m\n\u001b[32m     23\u001b[39m \u001b[38;5;28;01mdef\u001b[39;00m\u001b[38;5;250m \u001b[39m\u001b[34mf\u001b[39m(*args, **kwds):\n\u001b[32m     24\u001b[39m     \u001b[38;5;28;01mif\u001b[39;00m obj \u001b[38;5;129;01mis\u001b[39;00m \u001b[38;5;129;01mnot\u001b[39;00m \u001b[38;5;28;01mNone\u001b[39;00m:\n\u001b[32m---> \u001b[39m\u001b[32m25\u001b[39m         \u001b[38;5;28;01mreturn\u001b[39;00m \u001b[38;5;28;43mself\u001b[39;49m\u001b[43m.\u001b[49m\u001b[43mfn\u001b[49m\u001b[43m(\u001b[49m\u001b[43mobj\u001b[49m\u001b[43m,\u001b[49m\u001b[43m \u001b[49m\u001b[43m*\u001b[49m\u001b[43margs\u001b[49m\u001b[43m,\u001b[49m\u001b[43m \u001b[49m\u001b[43m*\u001b[49m\u001b[43m*\u001b[49m\u001b[43mkwds\u001b[49m\u001b[43m)\u001b[49m\n\u001b[32m     26\u001b[39m     \u001b[38;5;28;01melse\u001b[39;00m:\n\u001b[32m     27\u001b[39m         \u001b[38;5;28;01mreturn\u001b[39;00m \u001b[38;5;28mself\u001b[39m.fn(\u001b[38;5;28mcls\u001b[39m, *args, **kwds)\n",
      "\u001b[36mFile \u001b[39m\u001b[32m~/miniconda3/envs/astro/lib/python3.13/site-packages/astroquery/utils/process_asyncs.py:26\u001b[39m, in \u001b[36masync_to_sync.<locals>.create_method.<locals>.newmethod\u001b[39m\u001b[34m(self, *args, **kwargs)\u001b[39m\n\u001b[32m     22\u001b[39m \u001b[38;5;129m@class_or_instance\u001b[39m\n\u001b[32m     23\u001b[39m \u001b[38;5;28;01mdef\u001b[39;00m\u001b[38;5;250m \u001b[39m\u001b[34mnewmethod\u001b[39m(\u001b[38;5;28mself\u001b[39m, *args, **kwargs):\n\u001b[32m     24\u001b[39m     verbose = kwargs.pop(\u001b[33m'\u001b[39m\u001b[33mverbose\u001b[39m\u001b[33m'\u001b[39m, \u001b[38;5;28;01mFalse\u001b[39;00m)\n\u001b[32m---> \u001b[39m\u001b[32m26\u001b[39m     response = \u001b[38;5;28;43mgetattr\u001b[39;49m\u001b[43m(\u001b[49m\u001b[38;5;28;43mself\u001b[39;49m\u001b[43m,\u001b[49m\u001b[43m \u001b[49m\u001b[43masync_method_name\u001b[49m\u001b[43m)\u001b[49m\u001b[43m(\u001b[49m\u001b[43m*\u001b[49m\u001b[43margs\u001b[49m\u001b[43m,\u001b[49m\u001b[43m \u001b[49m\u001b[43m*\u001b[49m\u001b[43m*\u001b[49m\u001b[43mkwargs\u001b[49m\u001b[43m)\u001b[49m\n\u001b[32m     27\u001b[39m     \u001b[38;5;28;01mif\u001b[39;00m kwargs.get(\u001b[33m'\u001b[39m\u001b[33mget_query_payload\u001b[39m\u001b[33m'\u001b[39m) \u001b[38;5;129;01mor\u001b[39;00m kwargs.get(\u001b[33m'\u001b[39m\u001b[33mfield_help\u001b[39m\u001b[33m'\u001b[39m):\n\u001b[32m     28\u001b[39m         \u001b[38;5;28;01mreturn\u001b[39;00m response\n",
      "\u001b[36mFile \u001b[39m\u001b[32m~/miniconda3/envs/astro/lib/python3.13/site-packages/astroquery/utils/class_or_instance.py:25\u001b[39m, in \u001b[36mclass_or_instance.__get__.<locals>.f\u001b[39m\u001b[34m(*args, **kwds)\u001b[39m\n\u001b[32m     23\u001b[39m \u001b[38;5;28;01mdef\u001b[39;00m\u001b[38;5;250m \u001b[39m\u001b[34mf\u001b[39m(*args, **kwds):\n\u001b[32m     24\u001b[39m     \u001b[38;5;28;01mif\u001b[39;00m obj \u001b[38;5;129;01mis\u001b[39;00m \u001b[38;5;129;01mnot\u001b[39;00m \u001b[38;5;28;01mNone\u001b[39;00m:\n\u001b[32m---> \u001b[39m\u001b[32m25\u001b[39m         \u001b[38;5;28;01mreturn\u001b[39;00m \u001b[38;5;28;43mself\u001b[39;49m\u001b[43m.\u001b[49m\u001b[43mfn\u001b[49m\u001b[43m(\u001b[49m\u001b[43mobj\u001b[49m\u001b[43m,\u001b[49m\u001b[43m \u001b[49m\u001b[43m*\u001b[49m\u001b[43margs\u001b[49m\u001b[43m,\u001b[49m\u001b[43m \u001b[49m\u001b[43m*\u001b[49m\u001b[43m*\u001b[49m\u001b[43mkwds\u001b[49m\u001b[43m)\u001b[49m\n\u001b[32m     26\u001b[39m     \u001b[38;5;28;01melse\u001b[39;00m:\n\u001b[32m     27\u001b[39m         \u001b[38;5;28;01mreturn\u001b[39;00m \u001b[38;5;28mself\u001b[39m.fn(\u001b[38;5;28mcls\u001b[39m, *args, **kwds)\n",
      "\u001b[36mFile \u001b[39m\u001b[32m~/miniconda3/envs/astro/lib/python3.13/site-packages/astroquery/mast/observations.py:512\u001b[39m, in \u001b[36mObservationsClass.get_product_list_async\u001b[39m\u001b[34m(self, observations)\u001b[39m\n\u001b[32m    510\u001b[39m observations = observations[observations != \u001b[33m\"\u001b[39m\u001b[33m\"\u001b[39m]\n\u001b[32m    511\u001b[39m \u001b[38;5;28;01mif\u001b[39;00m observations.size == \u001b[32m0\u001b[39m:\n\u001b[32m--> \u001b[39m\u001b[32m512\u001b[39m     \u001b[38;5;28;01mraise\u001b[39;00m InvalidQueryError(\u001b[33m\"\u001b[39m\u001b[33mObservation list is empty, no associated products.\u001b[39m\u001b[33m\"\u001b[39m)\n\u001b[32m    514\u001b[39m service = \u001b[38;5;28mself\u001b[39m._caom_products\n\u001b[32m    515\u001b[39m params = {\u001b[33m'\u001b[39m\u001b[33mobsid\u001b[39m\u001b[33m'\u001b[39m: \u001b[33m'\u001b[39m\u001b[33m,\u001b[39m\u001b[33m'\u001b[39m.join(observations)}\n",
      "\u001b[31mInvalidQueryError\u001b[39m: Observation list is empty, no associated products."
     ]
    }
   ],
   "source": [
    "# Get the data products\n",
    "products = Observations.get_product_list(obs)\n",
    "calibrated = products[products['productSubGroupDescription'] == 'CAL']\n",
    "f200w = calibrated[calibrated['filters'] == 'F200W']\n",
    "\n",
    "# Download the data\n",
    "if len(f200w) > 0:\n",
    "    download = Observations.download_products(f200w[0:1])\n",
    "    filename = download['Local Path'][0]\n",
    "    \n",
    "    # Read the FITS file\n",
    "    with fits.open(filename) as hdul:\n",
    "        image_data = hdul[1].data\n",
    "        header = hdul[1].header\n",
    "        wcs = WCS(header)\n",
    "    \n",
    "    # Create a simple display of the image\n",
    "    plt.figure(figsize=(12, 10))\n",
    "    plt.imshow(image_data, cmap='gray')\n",
    "    plt.colorbar(label='Flux')\n",
    "    plt.title('JWST NIRCam F200W Image of SMACS 0723')\n",
    "    plt.show()\n",
    "else:\n",
    "    print(\"No F200W calibrated data found.\")"
   ]
  },
  {
   "cell_type": "markdown",
   "id": "b8f455cf",
   "metadata": {},
   "source": [
    "# Apply Contrast Stretching\n",
    "\n",
    "We'll apply contrast stretching using LogStretch and MinMaxInterval from astropy.visualization:"
   ]
  },
  {
   "cell_type": "code",
   "execution_count": null,
   "id": "cddcefce",
   "metadata": {},
   "outputs": [],
   "source": [
    "# Create the normalization using LogStretch and MinMaxInterval\n",
    "norm = ImageNormalize(\n",
    "    image_data,\n",
    "    interval=MinMaxInterval(),\n",
    "    stretch=LogStretch()\n",
    ")\n",
    "\n",
    "# Display the contrast-stretched image\n",
    "plt.figure(figsize=(12, 10))\n",
    "plt.imshow(image_data, norm=norm, cmap='gray')\n",
    "plt.colorbar(label='Flux (log scale)')\n",
    "plt.title('JWST NIRCam F200W Image (Log Stretched)')\n",
    "plt.show()"
   ]
  },
  {
   "cell_type": "markdown",
   "id": "c625848d",
   "metadata": {},
   "source": [
    "# Overlay Celestial Coordinates and Scale Bar\n",
    "\n",
    "Now we'll create a plot with WCS coordinates and add a scale bar:"
   ]
  },
  {
   "cell_type": "code",
   "execution_count": null,
   "id": "727696b5",
   "metadata": {},
   "outputs": [],
   "source": [
    "# Create a figure with WCS projection\n",
    "plt.clf()  # Clear any existing plots\n",
    "fig = plt.figure(figsize=(12, 10))\n",
    "\n",
    "# Create WCS axes\n",
    "ax = plt.subplot(projection=wcs)\n",
    "\n",
    "# Display the image with proper normalization\n",
    "im = ax.imshow(image_data, norm=norm, origin='lower', cmap='gray')\n",
    "\n",
    "# Configure the coordinate grid\n",
    "ax.coords.grid(True, color='white', ls='solid', alpha=0.3)\n",
    "ax.coords[0].set_axislabel('Right Ascension (J2000)')\n",
    "ax.coords[1].set_axislabel('Declination (J2000)')\n",
    "\n",
    "# Add a colorbar\n",
    "plt.colorbar(im, label='Flux (log scale)', ax=ax)\n",
    "\n",
    "# Add title\n",
    "plt.title('JWST NIRCam F200W Image with Celestial Coordinates')\n",
    "\n",
    "# Add a scale bar (assuming the WCS information is correct)\n",
    "# Convert 1 arcsec to degrees for the scale bar\n",
    "scale_bar_length = 1/3600  # 1 arcsec in degrees\n",
    "add_scalebar(ax, scale_bar_length, label='1 arcsec', color='white',\n",
    "            corner='bottom right', frame=True)\n",
    "\n",
    "plt.tight_layout()\n",
    "plt.show()"
   ]
  },
  {
   "cell_type": "markdown",
   "id": "35b5fa14",
   "metadata": {},
   "source": [
    "# Extract Source Positions\n",
    "\n",
    "Finally, we'll use photutils to detect and extract source positions:"
   ]
  },
  {
   "cell_type": "code",
   "execution_count": null,
   "id": "c0361207",
   "metadata": {},
   "outputs": [],
   "source": [
    "# Estimate the background\n",
    "sigma_clip = SigmaClip(sigma=3.0)\n",
    "bkg_estimator = MedianBackground()\n",
    "bkg = Background2D(image_data, (50, 50), filter_size=(3, 3),\n",
    "                  sigma_clip=sigma_clip, bkg_estimator=bkg_estimator)\n",
    "\n",
    "# Detect sources\n",
    "threshold = 3. * bkg.background_rms\n",
    "sources = detect_sources(image_data - bkg.background, threshold, npixels=5)\n",
    "\n",
    "# Deblend sources\n",
    "deblended = deblend_sources(image_data - bkg.background, sources, npixels=5,\n",
    "                           filter_kernel=None, nlevels=32, contrast=0.001)\n",
    "\n",
    "# Calculate source properties\n",
    "catalog = SourceCatalog(image_data - bkg.background, deblended, wcs=wcs)\n",
    "tbl = catalog.to_table()\n",
    "print(\"\\nDetected Sources:\")\n",
    "print(tbl['label', 'xcentroid', 'ycentroid', 'sky_centroid'])\n",
    "\n",
    "# Plot the image with detected sources\n",
    "plt.clf()\n",
    "fig = plt.figure(figsize=(12, 10))\n",
    "ax = plt.subplot(projection=wcs)\n",
    "\n",
    "# Display the image\n",
    "im = ax.imshow(image_data, norm=norm, origin='lower', cmap='gray')\n",
    "\n",
    "# Plot source positions with apertures\n",
    "positions = np.transpose((tbl['xcentroid'], tbl['ycentroid']))\n",
    "apertures = CircularAperture(positions, r=5.)\n",
    "apertures.plot(color='red', lw=1.5, alpha=0.7)\n",
    "\n",
    "# Configure the coordinate grid\n",
    "ax.coords.grid(True, color='white', ls='solid', alpha=0.3)\n",
    "ax.coords[0].set_axislabel('Right Ascension (J2000)')\n",
    "ax.coords[1].set_axislabel('Declination (J2000)')\n",
    "\n",
    "# Add a colorbar\n",
    "plt.colorbar(im, label='Flux (log scale)', ax=ax)\n",
    "\n",
    "# Add title\n",
    "plt.title('Detected Sources in JWST NIRCam F200W Image')\n",
    "\n",
    "# Add a scale bar\n",
    "scale_bar_length = 1/3600  # 1 arcsec in degrees\n",
    "add_scalebar(ax, scale_bar_length, label='1 arcsec', color='white',\n",
    "            corner='bottom right', frame=True)\n",
    "\n",
    "plt.tight_layout()\n",
    "plt.show()"
   ]
  },
  {
   "cell_type": "markdown",
   "id": "0634b402",
   "metadata": {},
   "source": [
    "# Conclusion\n",
    "\n",
    "We have successfully:\n",
    "1. Retrieved JWST NIRCam F200W data for SMACS 0723\n",
    "2. Applied appropriate contrast stretching\n",
    "3. Created a visualization with celestial coordinates and a scale bar\n",
    "4. Detected and extracted source positions\n",
    "\n",
    "The detected sources can be used for further analysis such as photometry or astrometry."
   ]
  }
 ],
 "metadata": {
  "kernelspec": {
   "display_name": "astro",
   "language": "python",
   "name": "python3"
  },
  "language_info": {
   "codemirror_mode": {
    "name": "ipython",
    "version": 3
   },
   "file_extension": ".py",
   "mimetype": "text/x-python",
   "name": "python",
   "nbconvert_exporter": "python",
   "pygments_lexer": "ipython3",
   "version": "3.13.2"
  }
 },
 "nbformat": 4,
 "nbformat_minor": 5
}
